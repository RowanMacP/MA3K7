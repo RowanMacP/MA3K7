{
 "cells": [
  {
   "cell_type": "markdown",
   "id": "321dfd90-3da9-49a5-8fdb-d75909ef1912",
   "metadata": {},
   "source": [
    "# String and Loops Programs\n",
    "These programs are built to work for 0$\\le$l$\\le$m$\\le$N."
   ]
  },
  {
   "cell_type": "markdown",
   "id": "691ea17a-8688-47b6-87de-acb8347f6cd8",
   "metadata": {},
   "source": [
    "## Python Program 1:\n",
    "This program takes the total number of strings as the input, and then pairs every end with every other end, without repeats, and outputs the total number of combinations and can print every combination if needed."
   ]
  },
  {
   "cell_type": "code",
   "execution_count": 37,
   "id": "22efbc9e-f84b-4e6a-82cf-3ec7c46890a9",
   "metadata": {},
   "outputs": [
    {
     "name": "stdout",
     "output_type": "stream",
     "text": [
      "For N = 6 the number of possible pairs are: 66\n"
     ]
    }
   ],
   "source": [
    "def end_pairs(n):\n",
    "    pairs = []\n",
    "    for i in range(1, n + 1):\n",
    "        for j in range(i, n + 1):\n",
    "            if i == j:\n",
    "                pairs.append(f\"({i}a, {j}b)\")\n",
    "            else:\n",
    "                pairs.append(f\"({i}a, {j}a)\")\n",
    "                pairs.append(f\"({i}a, {j}b)\")\n",
    "                pairs.append(f\"({i}b, {j}a)\")\n",
    "                pairs.append(f\"({i}b, {j}b)\")\n",
    "    return pairs\n",
    "\n",
    "# Parameters:\n",
    "t = 0 # If t = 1, print every pair combination\n",
    "N = 6 # Number of strings\n",
    "\n",
    "end_pairs_list = end_pairs(N)\n",
    "if t == 1:\n",
    "    for pair in end_pairs_list:\n",
    "        print(pair)\n",
    "print(\"For N =\", N, \"the number of possible pairs are:\", len(end_pairs_list))"
   ]
  },
  {
   "cell_type": "markdown",
   "id": "968d2a46-f0a4-4eaa-8e15-5887c650d7b7",
   "metadata": {},
   "source": [
    "## Python Program 2:\n",
    "This program calculates the chance of m loops forming after m pairs of ends are tied together, with N strings to start with."
   ]
  },
  {
   "cell_type": "code",
   "execution_count": 43,
   "id": "f186aac5-5fde-4f15-b684-2c5be0bb50e0",
   "metadata": {},
   "outputs": [
    {
     "name": "stdout",
     "output_type": "stream",
     "text": [
      "For N= 10 the probability of forming 8 loops after 8 ties is: 1/218243025\n"
     ]
    }
   ],
   "source": [
    "from fractions import Fraction\n",
    "\n",
    "def probability_1(N, m):\n",
    "    if N >= m:\n",
    "        result = 1\n",
    "        for k in range(1, m+1):\n",
    "            expression = Fraction(1, (2 * N + 1 - 2 * k))\n",
    "            result *= expression\n",
    "        print(\"For N =\", N, \"the probability of forming\", m, \"loops after\", m, \"ties is:\", result)\n",
    "    else:\n",
    "        print(\"Error: n is greater than N\")\n",
    "\n",
    "# Parameters\n",
    "N = 10 # Number of strings\n",
    "m = 8 # Number of loops and ends tied together\n",
    "\n",
    "probability_1(N, m)"
   ]
  },
  {
   "cell_type": "markdown",
   "id": "cf308170-75a4-49d7-9d18-a24466175b11",
   "metadata": {},
   "source": [
    "## Python Program 3:\n",
    "This program builds a probability tree based on the total number of strings (N), which it can print, as well as using the tree to calculate the probability of having a given number of loops after a given number of pairs of ends are tied together."
   ]
  },
  {
   "cell_type": "code",
   "execution_count": 48,
   "id": "bbd8451d-5fe9-47f3-8e68-3b54cb9ec96a",
   "metadata": {},
   "outputs": [
    {
     "name": "stdout",
     "output_type": "stream",
     "text": [
      "After starting with 5 strings, the probability of having 4 loops after tying 4 time: 1/945\n"
     ]
    }
   ],
   "source": [
    "from fractions import Fraction\n",
    "\n",
    "class TreeNode:\n",
    "    def __init__(self, value, l):\n",
    "        self.value = value\n",
    "        self.l = l\n",
    "        self.children = []\n",
    "\n",
    "    def add_child(self, child):\n",
    "        self.children.append(child)\n",
    "\n",
    "def print_tree(node, indent=0):\n",
    "    print(\" \" * indent + str(node.value) + f\" (l={node.l})\")\n",
    "    for child in node.children:\n",
    "        print_tree(child, indent + 2)\n",
    "\n",
    "def build_tree(n, N, parent_prob, l):\n",
    "    root = TreeNode(Fraction(parent_prob), l)\n",
    "    if n < N:\n",
    "        prob_top = Fraction(1, 2*N+1-2*n)\n",
    "        prob_bottom = Fraction(2*N-2*n, 2*N+1-2*n)\n",
    "        root.add_child(build_tree(n+1, N, prob_top, l+1))\n",
    "        root.add_child(build_tree(n+1, N, prob_bottom, l))\n",
    "    return root\n",
    "\n",
    "def prob_of_l_after_m_ties(tree, m, l_target, current_tier=0):\n",
    "    if current_tier == m:\n",
    "        return 1 if tree.l == l_target else 0\n",
    "\n",
    "    total_probability = 0\n",
    "    for child in tree.children:\n",
    "        total_probability += prob_of_l_after_m_ties(child, m, l_target, current_tier + 1) * child.value\n",
    "\n",
    "    return total_probability\n",
    "\n",
    "def main():\n",
    "    # Initialising\n",
    "    n = 1  # Initial number of tiers\n",
    "    parent_prob = 1  # Initial probability\n",
    "    l = 0  # Initial l\n",
    "    \n",
    "    # Parameters:\n",
    "    N = 5  # Number of strings\n",
    "    m = 4 # Number of ends tied together\n",
    "    l_target = 4 # Number of loops wanted\n",
    "    t = 0 # Print the tree diagram\n",
    "    \n",
    "    tree = build_tree(n, N, parent_prob, l)\n",
    "    if t == 1:\n",
    "        print_tree(tree)\n",
    "        \n",
    "    if not (0 < l_target <= m < N):\n",
    "        print(\"Error: Invalid values for l_target and m.\")\n",
    "        return\n",
    "    \n",
    "    probability = prob_of_l_after_m_ties(tree, m, l_target)\n",
    "    print(f\"After starting with {N} strings, the probability of having {l_target} loops after tying {m} time: {probability}\")\n",
    "\n",
    "if __name__ == \"__main__\":\n",
    "    main()"
   ]
  },
  {
   "cell_type": "markdown",
   "id": "054d6287-07ef-4639-aeb6-45f17dc996ff",
   "metadata": {},
   "source": [
    "## Python Program 4:\n",
    "This program calculates the probability of having l loops after m ties with N original strings using a recursive formula."
   ]
  },
  {
   "cell_type": "code",
   "execution_count": 50,
   "id": "ce7bfb77-7023-4f6f-a50e-fb8d3272b472",
   "metadata": {},
   "outputs": [
    {
     "name": "stdin",
     "output_type": "stream",
     "text": [
      "Enter the total number of strings (N):  10\n",
      "Enter the number of ties performed to consider (m):  5\n",
      "Enter the number of loops created (l):  5\n"
     ]
    },
    {
     "name": "stdout",
     "output_type": "stream",
     "text": [
      "The probability of having 5 loops after 5 ties in with 10 strings is: 1/692835\n"
     ]
    }
   ],
   "source": [
    "from fractions import Fraction\n",
    "\n",
    "def recursive_formula(l, m, N):\n",
    "    if m == 0:\n",
    "        return 1 if l == 0 else 0\n",
    "    elif l < 0 or l > m or m > N:\n",
    "        return 0\n",
    "    else:\n",
    "        top_branch_prob = Fraction(1, 2*N+1-2*m)\n",
    "        bottom_branch_prob = Fraction(2*N-2*m, 2*N+1-2*m)\n",
    "        return top_branch_prob * recursive_formula(l-1, m-1, N) + \\\n",
    "               bottom_branch_prob * recursive_formula(l, m-1, N)\n",
    "\n",
    "def main():\n",
    "    # Paramters:\n",
    "    N = 10 # Number of strings\n",
    "    m = 5 # Number of ends tied together\n",
    "    l = 5 # Number of loops wanted\n",
    "\n",
    "    probability = recursive_formula(l, m, N)\n",
    "    print(f\"The probability of having {l} loops after {m} ends are tied with {N} original strings is: {probability}\")\n",
    "\n",
    "if __name__ == \"__main__\":\n",
    "    main()"
   ]
  }
 ],
 "metadata": {
  "kernelspec": {
   "display_name": "Python 3 (ipykernel)",
   "language": "python",
   "name": "python3"
  },
  "language_info": {
   "codemirror_mode": {
    "name": "ipython",
    "version": 3
   },
   "file_extension": ".py",
   "mimetype": "text/x-python",
   "name": "python",
   "nbconvert_exporter": "python",
   "pygments_lexer": "ipython3",
   "version": "3.11.7"
  }
 },
 "nbformat": 4,
 "nbformat_minor": 5
}
